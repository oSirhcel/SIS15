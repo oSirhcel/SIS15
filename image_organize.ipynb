{
 "cells": [
  {
   "cell_type": "code",
   "execution_count": 2,
   "id": "b2db4018-9c1c-464d-9f8a-2f1c990e78cf",
   "metadata": {},
   "outputs": [
    {
     "name": "stdout",
     "output_type": "stream",
     "text": [
      "图片已成功复制并重命名。\n"
     ]
    }
   ],
   "source": [
    "import os\n",
    "import random\n",
    "import shutil\n",
    "\n",
    "# 定义输入和输出文件夹路径\n",
    "input_folder = 'garbage_classification'\n",
    "output_folder = 'textile'\n",
    "\n",
    "# 创建目标文件夹，如果不存在的话\n",
    "if not os.path.exists(output_folder):\n",
    "    os.makedirs(output_folder)\n",
    "\n",
    "# 定义子文件夹名称和初始图片编号\n",
    "subfolders = ['shoes','clothes']\n",
    "image_count = 1\n",
    "\n",
    "# 遍历每个子文件夹\n",
    "for subfolder in subfolders:\n",
    "    subfolder_path = os.path.join(input_folder, subfolder)\n",
    "    \n",
    "    # 获取文件夹中的所有图片文件\n",
    "    images = [f for f in os.listdir(subfolder_path) if os.path.isfile(os.path.join(subfolder_path, f))]\n",
    "    \n",
    "    # 随机选择60%的图片\n",
    "    selected_images = random.sample(images, int(0.2 * len(images)))\n",
    "    \n",
    "    # 复制选中的图片到目标文件夹并重命名\n",
    "    for image in selected_images:\n",
    "        source_path = os.path.join(subfolder_path, image)\n",
    "        new_filename = f'textile{image_count}.jpg'\n",
    "        destination_path = os.path.join(output_folder, new_filename)\n",
    "        \n",
    "        shutil.copy(source_path, destination_path)\n",
    "        image_count += 1\n",
    "\n",
    "print(\"图片已成功复制并重命名。\")\n"
   ]
  },
  {
   "cell_type": "code",
   "execution_count": null,
   "id": "c9479e1c-9179-4b96-8de8-fff4fa169e42",
   "metadata": {},
   "outputs": [],
   "source": []
  }
 ],
 "metadata": {
  "kernelspec": {
   "display_name": "Python 3 (ipykernel)",
   "language": "python",
   "name": "python3"
  },
  "language_info": {
   "codemirror_mode": {
    "name": "ipython",
    "version": 3
   },
   "file_extension": ".py",
   "mimetype": "text/x-python",
   "name": "python",
   "nbconvert_exporter": "python",
   "pygments_lexer": "ipython3",
   "version": "3.12.4"
  }
 },
 "nbformat": 4,
 "nbformat_minor": 5
}
